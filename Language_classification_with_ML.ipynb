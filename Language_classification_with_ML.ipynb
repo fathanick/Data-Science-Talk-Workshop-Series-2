{
  "nbformat": 4,
  "nbformat_minor": 0,
  "metadata": {
    "colab": {
      "name": "Language-classification-with-ML.ipynb",
      "provenance": [],
      "mount_file_id": "1HMnysZ3nqCQCI1eIWSugMRhi4-b73kFL",
      "authorship_tag": "ABX9TyPBYb8NfAlZfGbhjHbNTVq8",
      "include_colab_link": true
    },
    "kernelspec": {
      "name": "python3",
      "display_name": "Python 3"
    },
    "accelerator": "GPU"
  },
  "cells": [
    {
      "cell_type": "markdown",
      "metadata": {
        "id": "view-in-github",
        "colab_type": "text"
      },
      "source": [
        "<a href=\"https://colab.research.google.com/github/fathanick/Language-classification/blob/master/Language_classification_with_ML.ipynb\" target=\"_parent\"><img src=\"https://colab.research.google.com/assets/colab-badge.svg\" alt=\"Open In Colab\"/></a>"
      ]
    },
    {
      "cell_type": "markdown",
      "metadata": {
        "id": "k7NxJ0N_lYa3",
        "colab_type": "text"
      },
      "source": [
        "###Prepare The Data"
      ]
    },
    {
      "cell_type": "code",
      "metadata": {
        "id": "dHiBXQP4r8V6",
        "colab_type": "code",
        "colab": {}
      },
      "source": [
        "import pandas as pd"
      ],
      "execution_count": 0,
      "outputs": []
    },
    {
      "cell_type": "code",
      "metadata": {
        "id": "hTTT2MofsN3S",
        "colab_type": "code",
        "colab": {}
      },
      "source": [
        "data = pd.read_excel('/content/drive/My Drive/DTWS #2 WORKSHOP/DATASET/data-klasifikasi-bahasa.xlsx')"
      ],
      "execution_count": 0,
      "outputs": []
    },
    {
      "cell_type": "code",
      "metadata": {
        "id": "X3f1RANhsw3Q",
        "colab_type": "code",
        "colab": {
          "base_uri": "https://localhost:8080/",
          "height": 204
        },
        "outputId": "25375e60-39c4-4a53-8727-08510fa10277"
      },
      "source": [
        "data.head()"
      ],
      "execution_count": 4,
      "outputs": [
        {
          "output_type": "execute_result",
          "data": {
            "text/html": [
              "<div>\n",
              "<style scoped>\n",
              "    .dataframe tbody tr th:only-of-type {\n",
              "        vertical-align: middle;\n",
              "    }\n",
              "\n",
              "    .dataframe tbody tr th {\n",
              "        vertical-align: top;\n",
              "    }\n",
              "\n",
              "    .dataframe thead th {\n",
              "        text-align: right;\n",
              "    }\n",
              "</style>\n",
              "<table border=\"1\" class=\"dataframe\">\n",
              "  <thead>\n",
              "    <tr style=\"text-align: right;\">\n",
              "      <th></th>\n",
              "      <th>Unnamed: 0</th>\n",
              "      <th>cleanText</th>\n",
              "      <th>label</th>\n",
              "    </tr>\n",
              "  </thead>\n",
              "  <tbody>\n",
              "    <tr>\n",
              "      <th>0</th>\n",
              "      <td>0</td>\n",
              "      <td>laporan   itu pacar apa satpam</td>\n",
              "      <td>Indo</td>\n",
              "    </tr>\n",
              "    <tr>\n",
              "      <th>1</th>\n",
              "      <td>1</td>\n",
              "      <td>marah marah mulu  itu pacar apa dosen  dosen a...</td>\n",
              "      <td>Indo</td>\n",
              "    </tr>\n",
              "    <tr>\n",
              "      <th>2</th>\n",
              "      <td>2</td>\n",
              "      <td>balikan deh yuk  you love me  i love you  teru...</td>\n",
              "      <td>Indo</td>\n",
              "    </tr>\n",
              "    <tr>\n",
              "      <th>3</th>\n",
              "      <td>3</td>\n",
              "      <td>nonitrend adalah multivitamin yg terbuat dari ...</td>\n",
              "      <td>Indo</td>\n",
              "    </tr>\n",
              "    <tr>\n",
              "      <th>4</th>\n",
              "      <td>4</td>\n",
              "      <td>pacar suka marah dan curiga enaknya diapain ya</td>\n",
              "      <td>Indo</td>\n",
              "    </tr>\n",
              "  </tbody>\n",
              "</table>\n",
              "</div>"
            ],
            "text/plain": [
              "   Unnamed: 0                                          cleanText label\n",
              "0           0                     laporan   itu pacar apa satpam  Indo\n",
              "1           1  marah marah mulu  itu pacar apa dosen  dosen a...  Indo\n",
              "2           2  balikan deh yuk  you love me  i love you  teru...  Indo\n",
              "3           3  nonitrend adalah multivitamin yg terbuat dari ...  Indo\n",
              "4           4     pacar suka marah dan curiga enaknya diapain ya  Indo"
            ]
          },
          "metadata": {
            "tags": []
          },
          "execution_count": 4
        }
      ]
    },
    {
      "cell_type": "code",
      "metadata": {
        "id": "y8KzHDvEuEtK",
        "colab_type": "code",
        "colab": {
          "base_uri": "https://localhost:8080/",
          "height": 34
        },
        "outputId": "7a2c0337-be42-421d-9c16-4e38f140defe"
      },
      "source": [
        "len(data)\n",
        "data['label'].unique()"
      ],
      "execution_count": 9,
      "outputs": [
        {
          "output_type": "execute_result",
          "data": {
            "text/plain": [
              "array(['Indo', 'Jawa', 'Sunda'], dtype=object)"
            ]
          },
          "metadata": {
            "tags": []
          },
          "execution_count": 9
        }
      ]
    },
    {
      "cell_type": "markdown",
      "metadata": {
        "id": "HtX12M-4leen",
        "colab_type": "text"
      },
      "source": [
        "###Libraries Declaration"
      ]
    },
    {
      "cell_type": "code",
      "metadata": {
        "id": "TlMtOmP-s3sV",
        "colab_type": "code",
        "colab": {}
      },
      "source": [
        "from sklearn.naive_bayes import MultinomialNB\n",
        "from sklearn.svm import LinearSVC\n",
        "from sklearn.feature_extraction.text import CountVectorizer\n",
        "from sklearn.feature_extraction.text import TfidfTransformer\n",
        "from sklearn.pipeline import Pipeline\n",
        "from sklearn.model_selection import train_test_split\n",
        "from sklearn.metrics import classification_report, confusion_matrix, accuracy_score, f1_score, precision_score, recall_score, plot_confusion_matrix\n",
        "import numpy as np\n",
        "import seaborn as sns\n",
        "import matplotlib.pyplot as plt\n",
        "\n",
        "np.random.seed(7)"
      ],
      "execution_count": 0,
      "outputs": []
    },
    {
      "cell_type": "markdown",
      "metadata": {
        "id": "_k5T5Upolo53",
        "colab_type": "text"
      },
      "source": [
        "###Naive Bayes"
      ]
    },
    {
      "cell_type": "code",
      "metadata": {
        "id": "aWvs67q9uATO",
        "colab_type": "code",
        "colab": {}
      },
      "source": [
        "#Multinomial Naive Bayes\n",
        "pipeline_mnb = Pipeline([\n",
        "    ('vect', CountVectorizer()),\n",
        "    #('vect', CountVectorizer(ngram_range=(2,2))),\n",
        "    ('tfidf', TfidfTransformer(use_idf=True, smooth_idf=True)),\n",
        "    ('clf', MultinomialNB(alpha=1))\n",
        "])\n",
        "\n",
        "X_train, X_test, y_train, y_test = train_test_split(data['cleanText'], data['label'],  test_size=0.33, random_state = 0)\n",
        "clf_mnb = pipeline_mnb.fit(X_train, y_train)\n",
        "pred_mnb = pipeline_mnb.predict(X_test)"
      ],
      "execution_count": 0,
      "outputs": []
    },
    {
      "cell_type": "markdown",
      "metadata": {
        "id": "fdjAMV7plrP9",
        "colab_type": "text"
      },
      "source": [
        "####Naive Bayes Result"
      ]
    },
    {
      "cell_type": "code",
      "metadata": {
        "id": "b7ta2spM5Gnr",
        "colab_type": "code",
        "colab": {
          "base_uri": "https://localhost:8080/",
          "height": 272
        },
        "outputId": "cfa83238-6df9-4541-c642-016f1d016a1d"
      },
      "source": [
        "acc_mnb = accuracy_score(y_test, pred_mnb)\n",
        "print(\"Accuracy: {0:.4f}\".format(acc_mnb))\n",
        "\n",
        "conf_matrix_mnb = confusion_matrix(y_test, pred_mnb)\n",
        "print(\"Confusion matrix:\\n {}\".format(conf_matrix_mnb))\n",
        "print(classification_report(y_test, pred_mnb))"
      ],
      "execution_count": 27,
      "outputs": [
        {
          "output_type": "stream",
          "text": [
            "Accuracy: 0.9248\n",
            "Confusion matrix:\n",
            " [[39990   564   439]\n",
            " [ 3371 28664   447]\n",
            " [ 3000   217 30224]]\n",
            "              precision    recall  f1-score   support\n",
            "\n",
            "        Indo       0.86      0.98      0.92     40993\n",
            "        Jawa       0.97      0.88      0.93     32482\n",
            "       Sunda       0.97      0.90      0.94     33441\n",
            "\n",
            "    accuracy                           0.92    106916\n",
            "   macro avg       0.94      0.92      0.93    106916\n",
            "weighted avg       0.93      0.92      0.93    106916\n",
            "\n"
          ],
          "name": "stdout"
        }
      ]
    },
    {
      "cell_type": "markdown",
      "metadata": {
        "id": "dvyTEICElugX",
        "colab_type": "text"
      },
      "source": [
        "####Naive Bayes Confusion Matrix"
      ]
    },
    {
      "cell_type": "code",
      "metadata": {
        "id": "HP1MJKMWeATG",
        "colab_type": "code",
        "colab": {
          "base_uri": "https://localhost:8080/",
          "height": 346
        },
        "outputId": "25cd6bd3-09d6-43f9-c0b1-0f493f1a7d90"
      },
      "source": [
        "class_names = data['label'].unique()\n",
        "disp = plot_confusion_matrix(clf_mnb, X_test, y_test,\n",
        "                              display_labels=class_names,\n",
        "                              cmap=plt.cm.Blues, values_format='d')\n",
        "disp.ax_.set_title(\"Confusion Matrix\")\n",
        "print(disp.confusion_matrix)\n",
        "\n",
        "plt.show()"
      ],
      "execution_count": 28,
      "outputs": [
        {
          "output_type": "stream",
          "text": [
            "[[39990   564   439]\n",
            " [ 3371 28664   447]\n",
            " [ 3000   217 30224]]\n"
          ],
          "name": "stdout"
        },
        {
          "output_type": "display_data",
          "data": {
            "image/png": "[encoded data removed]",
            "text/plain": [
              "<Figure size 432x288 with 2 Axes>"
            ]
          },
          "metadata": {
            "tags": []
          }
        }
      ]
    },
    {
      "cell_type": "markdown",
      "metadata": {
        "id": "Xctl1LdTmDht",
        "colab_type": "text"
      },
      "source": [
        "####Prediksi Naive Bayes"
      ]
    },
    {
      "cell_type": "code",
      "metadata": {
        "id": "cLZkxGVtmGVA",
        "colab_type": "code",
        "colab": {
          "base_uri": "https://localhost:8080/",
          "height": 34
        },
        "outputId": "bf629a24-4560-4111-e8c9-77ccbc3446f4"
      },
      "source": [
        "predictions = pipeline_mnb.predict([\"Kumaha eta teh\",\"Ojo lungo kene wae\",\"saya sangat menyukai kerja anda\"])\n",
        "predictions"
      ],
      "execution_count": 29,
      "outputs": [
        {
          "output_type": "execute_result",
          "data": {
            "text/plain": [
              "array(['Sunda', 'Jawa', 'Indo'], dtype='<U5')"
            ]
          },
          "metadata": {
            "tags": []
          },
          "execution_count": 29
        }
      ]
    },
    {
      "cell_type": "markdown",
      "metadata": {
        "id": "JpKHNdkdl2LI",
        "colab_type": "text"
      },
      "source": [
        "###Support Vector Classifier"
      ]
    },
    {
      "cell_type": "code",
      "metadata": {
        "id": "CRVy-8BHl1fl",
        "colab_type": "code",
        "colab": {}
      },
      "source": [
        "#SVC\n",
        "pipeline_svc = Pipeline([\n",
        "    ('vect', CountVectorizer()),\n",
        "    ('tfidf', TfidfTransformer(use_idf=True, smooth_idf=True)),\n",
        "    ('clf', LinearSVC())\n",
        "])\n",
        "\n",
        "X_train, X_test, y_train, y_test = train_test_split(data['cleanText'], data['label'],  test_size=0.33, random_state = 0)\n",
        "clf_svc = pipeline_svc.fit(X_train, y_train)\n",
        "pred_svc = pipeline_svc.predict(X_test)"
      ],
      "execution_count": 0,
      "outputs": []
    },
    {
      "cell_type": "markdown",
      "metadata": {
        "id": "QRDn368Cm3Jq",
        "colab_type": "text"
      },
      "source": [
        "####SVC Result"
      ]
    },
    {
      "cell_type": "code",
      "metadata": {
        "id": "LSs_2Z1jmhXc",
        "colab_type": "code",
        "colab": {
          "base_uri": "https://localhost:8080/",
          "height": 272
        },
        "outputId": "9da733e1-b658-48d7-e834-22fd72f8690e"
      },
      "source": [
        "acc_svc = accuracy_score(y_test, pred_svc)\n",
        "print(\"Accuracy: {0:.4f}\".format(acc_svc))\n",
        "\n",
        "conf_matrix_svc = confusion_matrix(y_test, pred_svc)\n",
        "print(\"Confusion matrix:\\n {}\".format(conf_matrix_svc))\n",
        "print(classification_report(y_test, pred_svc))"
      ],
      "execution_count": 32,
      "outputs": [
        {
          "output_type": "stream",
          "text": [
            "Accuracy: 0.9579\n",
            "Confusion matrix:\n",
            " [[40074   590   329]\n",
            " [ 1706 30476   300]\n",
            " [ 1259   316 31866]]\n",
            "              precision    recall  f1-score   support\n",
            "\n",
            "        Indo       0.93      0.98      0.95     40993\n",
            "        Jawa       0.97      0.94      0.95     32482\n",
            "       Sunda       0.98      0.95      0.97     33441\n",
            "\n",
            "    accuracy                           0.96    106916\n",
            "   macro avg       0.96      0.96      0.96    106916\n",
            "weighted avg       0.96      0.96      0.96    106916\n",
            "\n"
          ],
          "name": "stdout"
        }
      ]
    },
    {
      "cell_type": "code",
      "metadata": {
        "id": "7mPK1wv4niSx",
        "colab_type": "code",
        "colab": {
          "base_uri": "https://localhost:8080/",
          "height": 346
        },
        "outputId": "2f88da7a-0843-4ee6-8571-ee27e2d7a68a"
      },
      "source": [
        "disp = plot_confusion_matrix(clf_svc, X_test, y_test,\n",
        "                              display_labels=class_names,\n",
        "                              cmap=plt.cm.Blues, values_format='d')\n",
        "disp.ax_.set_title(\"Confusion Matrix\")\n",
        "print(disp.confusion_matrix)\n",
        "\n",
        "plt.show()"
      ],
      "execution_count": 33,
      "outputs": [
        {
          "output_type": "stream",
          "text": [
            "[[40074   590   329]\n",
            " [ 1706 30476   300]\n",
            " [ 1259   316 31866]]\n"
          ],
          "name": "stdout"
        },
        {
          "output_type": "display_data",
          "data": {
            "image/png": "[encoded data removed]",
            "text/plain": [
              "<Figure size 432x288 with 2 Axes>"
            ]
          },
          "metadata": {
            "tags": []
          }
        }
      ]
    },
    {
      "cell_type": "markdown",
      "metadata": {
        "id": "fJ-oXjiJbDwQ",
        "colab_type": "text"
      },
      "source": [
        "###References\n",
        "\n",
        "* https://seaborn.pydata.org/generated/seaborn.heatmap.html"
      ]
    }
  ]
}