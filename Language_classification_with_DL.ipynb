{
  "nbformat": 4,
  "nbformat_minor": 0,
  "metadata": {
    "colab": {
      "name": "Language_classification_with_DL.ipynb",
      "provenance": [],
      "mount_file_id": "1v_Il5AKovFuzNi-eCF5ugtVkOSSoAhkV",
      "authorship_tag": "ABX9TyOIzJZGCH0fUctq6Sb2tiEw",
      "include_colab_link": true
    },
    "kernelspec": {
      "name": "python3",
      "display_name": "Python 3"
    },
    "accelerator": "GPU"
  },
  "cells": [
    {
      "cell_type": "markdown",
      "metadata": {
        "id": "view-in-github",
        "colab_type": "text"
      },
      "source": [
        "<a href=\"https://colab.research.google.com/github/fathanick/Data-Science-Talk-Workshop-Series-2/blob/master/Language_classification_with_DL.ipynb\" target=\"_parent\"><img src=\"https://colab.research.google.com/assets/colab-badge.svg\" alt=\"Open In Colab\"/></a>"
      ]
    },
    {
      "cell_type": "markdown",
      "metadata": {
        "id": "RYPElHRWHCkj",
        "colab_type": "text"
      },
      "source": [
        "![picture](https://drive.google.com/uc?id=1-xuFvbmPE2Y8fTaRaBblI4ghFmRfG7Bs)"
      ]
    },
    {
      "cell_type": "code",
      "metadata": {
        "id": "QRlBm9F9nE2b",
        "colab_type": "code",
        "outputId": "b4184c1c-c5ac-4d61-823e-20be3123b6f0",
        "colab": {
          "base_uri": "https://localhost:8080/",
          "height": 34
        }
      },
      "source": [
        "%tensorflow_version 2.x"
      ],
      "execution_count": 0,
      "outputs": [
        {
          "output_type": "stream",
          "text": [
            "TensorFlow 2.x selected.\n"
          ],
          "name": "stdout"
        }
      ]
    },
    {
      "cell_type": "code",
      "metadata": {
        "id": "wBxiAdhypUhn",
        "colab_type": "code",
        "colab": {}
      },
      "source": [
        "import tensorflow as tf\n",
        "import numpy as np\n",
        "\n",
        "np.random.seed(7)"
      ],
      "execution_count": 0,
      "outputs": []
    },
    {
      "cell_type": "code",
      "metadata": {
        "id": "VXi1Vp-WleZq",
        "colab_type": "code",
        "colab": {}
      },
      "source": [
        "import pandas as pd"
      ],
      "execution_count": 0,
      "outputs": []
    },
    {
      "cell_type": "code",
      "metadata": {
        "id": "QhcvdzbKmoMp",
        "colab_type": "code",
        "colab": {}
      },
      "source": [
        "data = pd.read_excel('/content/drive/My Drive/DTWS #2 WORKSHOP/DATASET/data-klasifikasi-bahasa.xlsx')"
      ],
      "execution_count": 0,
      "outputs": []
    },
    {
      "cell_type": "code",
      "metadata": {
        "id": "PfVDIX4RpgH8",
        "colab_type": "code",
        "outputId": "08d4e0b0-caea-49d9-9778-09ce3a7a17c1",
        "colab": {
          "base_uri": "https://localhost:8080/",
          "height": 204
        }
      },
      "source": [
        "data.head()"
      ],
      "execution_count": 0,
      "outputs": [
        {
          "output_type": "execute_result",
          "data": {
            "text/html": [
              "<div>\n",
              "<style scoped>\n",
              "    .dataframe tbody tr th:only-of-type {\n",
              "        vertical-align: middle;\n",
              "    }\n",
              "\n",
              "    .dataframe tbody tr th {\n",
              "        vertical-align: top;\n",
              "    }\n",
              "\n",
              "    .dataframe thead th {\n",
              "        text-align: right;\n",
              "    }\n",
              "</style>\n",
              "<table border=\"1\" class=\"dataframe\">\n",
              "  <thead>\n",
              "    <tr style=\"text-align: right;\">\n",
              "      <th></th>\n",
              "      <th>Unnamed: 0</th>\n",
              "      <th>cleanText</th>\n",
              "      <th>label</th>\n",
              "    </tr>\n",
              "  </thead>\n",
              "  <tbody>\n",
              "    <tr>\n",
              "      <th>0</th>\n",
              "      <td>0</td>\n",
              "      <td>laporan   itu pacar apa satpam</td>\n",
              "      <td>Indo</td>\n",
              "    </tr>\n",
              "    <tr>\n",
              "      <th>1</th>\n",
              "      <td>1</td>\n",
              "      <td>marah marah mulu  itu pacar apa dosen  dosen a...</td>\n",
              "      <td>Indo</td>\n",
              "    </tr>\n",
              "    <tr>\n",
              "      <th>2</th>\n",
              "      <td>2</td>\n",
              "      <td>balikan deh yuk  you love me  i love you  teru...</td>\n",
              "      <td>Indo</td>\n",
              "    </tr>\n",
              "    <tr>\n",
              "      <th>3</th>\n",
              "      <td>3</td>\n",
              "      <td>nonitrend adalah multivitamin yg terbuat dari ...</td>\n",
              "      <td>Indo</td>\n",
              "    </tr>\n",
              "    <tr>\n",
              "      <th>4</th>\n",
              "      <td>4</td>\n",
              "      <td>pacar suka marah dan curiga enaknya diapain ya</td>\n",
              "      <td>Indo</td>\n",
              "    </tr>\n",
              "  </tbody>\n",
              "</table>\n",
              "</div>"
            ],
            "text/plain": [
              "   Unnamed: 0                                          cleanText label\n",
              "0           0                     laporan   itu pacar apa satpam  Indo\n",
              "1           1  marah marah mulu  itu pacar apa dosen  dosen a...  Indo\n",
              "2           2  balikan deh yuk  you love me  i love you  teru...  Indo\n",
              "3           3  nonitrend adalah multivitamin yg terbuat dari ...  Indo\n",
              "4           4     pacar suka marah dan curiga enaknya diapain ya  Indo"
            ]
          },
          "metadata": {
            "tags": []
          },
          "execution_count": 5
        }
      ]
    },
    {
      "cell_type": "code",
      "metadata": {
        "id": "Sw-yUN-tlvqe",
        "colab_type": "code",
        "outputId": "dbf42735-e72d-4715-8974-2858a4b596b8",
        "colab": {
          "base_uri": "https://localhost:8080/",
          "height": 34
        }
      },
      "source": [
        "len(data)"
      ],
      "execution_count": 0,
      "outputs": [
        {
          "output_type": "execute_result",
          "data": {
            "text/plain": [
              "323985"
            ]
          },
          "metadata": {
            "tags": []
          },
          "execution_count": 6
        }
      ]
    },
    {
      "cell_type": "code",
      "metadata": {
        "id": "GNA3RLJdlguJ",
        "colab_type": "code",
        "colab": {}
      },
      "source": [
        "txt = data['cleanText']\n",
        "label = data['label']"
      ],
      "execution_count": 0,
      "outputs": []
    },
    {
      "cell_type": "code",
      "metadata": {
        "id": "KW8RuZ-3ly_m",
        "colab_type": "code",
        "outputId": "a44abb9d-cb21-4933-bb60-613a7b2ae91c",
        "colab": {
          "base_uri": "https://localhost:8080/",
          "height": 119
        }
      },
      "source": [
        "txt.head()"
      ],
      "execution_count": 0,
      "outputs": [
        {
          "output_type": "execute_result",
          "data": {
            "text/plain": [
              "0                       laporan   itu pacar apa satpam\n",
              "1    marah marah mulu  itu pacar apa dosen  dosen a...\n",
              "2    balikan deh yuk  you love me  i love you  teru...\n",
              "3    nonitrend adalah multivitamin yg terbuat dari ...\n",
              "4       pacar suka marah dan curiga enaknya diapain ya\n",
              "Name: cleanText, dtype: object"
            ]
          },
          "metadata": {
            "tags": []
          },
          "execution_count": 8
        }
      ]
    },
    {
      "cell_type": "code",
      "metadata": {
        "id": "wIgfT1nml0YR",
        "colab_type": "code",
        "outputId": "d809f84c-e916-46b6-a6ea-da4859f4c558",
        "colab": {
          "base_uri": "https://localhost:8080/",
          "height": 34
        }
      },
      "source": [
        "label.unique()"
      ],
      "execution_count": 0,
      "outputs": [
        {
          "output_type": "execute_result",
          "data": {
            "text/plain": [
              "array(['Indo', 'Jawa', 'Sunda'], dtype=object)"
            ]
          },
          "metadata": {
            "tags": []
          },
          "execution_count": 9
        }
      ]
    },
    {
      "cell_type": "code",
      "metadata": {
        "id": "5ePLyb_XLEER",
        "colab_type": "code",
        "colab": {}
      },
      "source": [
        "from tensorflow.keras.preprocessing.text import Tokenizer\n",
        "from tensorflow.keras.preprocessing.sequence import pad_sequences\n",
        "\n",
        "max_words = 500\n",
        "\n",
        "tokenizer = Tokenizer(num_words=max_words, split=' ')\n",
        "tokenizer.fit_on_texts(txt.values)\n",
        "X = tokenizer.texts_to_sequences(txt.values)\n",
        "X = pad_sequences(X)"
      ],
      "execution_count": 0,
      "outputs": []
    },
    {
      "cell_type": "code",
      "metadata": {
        "id": "suh5VDlil3I8",
        "colab_type": "code",
        "outputId": "39b4776e-b9fb-420a-c566-62ba3de6242f",
        "colab": {
          "base_uri": "https://localhost:8080/",
          "height": 51
        }
      },
      "source": [
        "from sklearn.model_selection import train_test_split\n",
        "\n",
        "Y = pd.get_dummies(label).values\n",
        "X_train, X_test, Y_train, Y_test = train_test_split(X,Y, test_size = 0.33, random_state = 42)\n",
        "print('input_train shape:', X_train.shape)\n",
        "print('input_test shape:', X_test.shape)"
      ],
      "execution_count": 0,
      "outputs": [
        {
          "output_type": "stream",
          "text": [
            "input_train shape: (217069, 44)\n",
            "input_test shape: (106916, 44)\n"
          ],
          "name": "stdout"
        }
      ]
    },
    {
      "cell_type": "code",
      "metadata": {
        "id": "JtI6kdSpMJFY",
        "colab_type": "code",
        "colab": {}
      },
      "source": [
        "from tensorflow.keras.models import Sequential\n",
        "from tensorflow.keras.layers import Embedding, SimpleRNN, LSTM, GRU, Dense\n",
        "import matplotlib.pyplot as plt"
      ],
      "execution_count": 0,
      "outputs": []
    },
    {
      "cell_type": "markdown",
      "metadata": {
        "id": "3_yrpiaYM8Ui",
        "colab_type": "text"
      },
      "source": [
        "###Simple RNN"
      ]
    },
    {
      "cell_type": "code",
      "metadata": {
        "id": "n4DPgAqtM43Y",
        "colab_type": "code",
        "outputId": "3ebd5f2e-b300-4ee6-ed81-0152aa9ca110",
        "colab": {
          "base_uri": "https://localhost:8080/",
          "height": 204
        }
      },
      "source": [
        "model_RNN = Sequential()\n",
        "model_RNN.add(Embedding(10000, 32))\n",
        "model_RNN.add(SimpleRNN(32))\n",
        "model_RNN.add(Dense(3, activation='sigmoid'))\n",
        "model_RNN.compile(optimizer='adam', loss='categorical_crossentropy', metrics=['acc'])\n",
        "history_RNN = model_RNN.fit(X_train, Y_train,\n",
        "                    epochs=5,\n",
        "                    batch_size=512,\n",
        "                    validation_split=0.2)"
      ],
      "execution_count": 0,
      "outputs": [
        {
          "output_type": "stream",
          "text": [
            "Train on 173655 samples, validate on 43414 samples\n",
            "Epoch 1/5\n",
            "173655/173655 [==============================] - 15s 87us/sample - loss: 0.5689 - acc: 0.7799 - val_loss: 0.3775 - val_acc: 0.8530\n",
            "Epoch 2/5\n",
            "173655/173655 [==============================] - 12s 72us/sample - loss: 0.3659 - acc: 0.8551 - val_loss: 0.3627 - val_acc: 0.8550\n",
            "Epoch 3/5\n",
            "173655/173655 [==============================] - 12s 71us/sample - loss: 0.3594 - acc: 0.8562 - val_loss: 0.3618 - val_acc: 0.8536\n",
            "Epoch 4/5\n",
            "173655/173655 [==============================] - 13s 72us/sample - loss: 0.3492 - acc: 0.8601 - val_loss: 0.3545 - val_acc: 0.8568\n",
            "Epoch 5/5\n",
            "173655/173655 [==============================] - 12s 70us/sample - loss: 0.3459 - acc: 0.8605 - val_loss: 0.3593 - val_acc: 0.8551\n"
          ],
          "name": "stdout"
        }
      ]
    },
    {
      "cell_type": "code",
      "metadata": {
        "id": "st7UiNl0NBcU",
        "colab_type": "code",
        "outputId": "0b0893eb-a02e-4121-83e2-913617d2a81b",
        "colab": {
          "base_uri": "https://localhost:8080/",
          "height": 51
        }
      },
      "source": [
        "loss_RNN, acc_RNN = model_RNN.evaluate(X_test, Y_test, verbose=0)\n",
        "print(\"Accuracy: %.2f\" % (acc_RNN*100), \"%\")\n",
        "print(\"Loss: %.2f\" % (loss_RNN*100), \"%\")"
      ],
      "execution_count": 0,
      "outputs": [
        {
          "output_type": "stream",
          "text": [
            "Accuracy: 85.71 %\n",
            "Loss: 35.16 %\n"
          ],
          "name": "stdout"
        }
      ]
    },
    {
      "cell_type": "markdown",
      "metadata": {
        "id": "yuLlW3jONWXE",
        "colab_type": "text"
      },
      "source": [
        "###LSTM"
      ]
    },
    {
      "cell_type": "code",
      "metadata": {
        "id": "hbG8zhciN5FF",
        "colab_type": "code",
        "outputId": "e8836827-b167-4086-f04a-5e5e6216b34f",
        "colab": {
          "base_uri": "https://localhost:8080/",
          "height": 204
        }
      },
      "source": [
        "model_LSTM = Sequential()\n",
        "model_LSTM.add(Embedding(10000, 32))\n",
        "model_LSTM.add(LSTM(32))\n",
        "model_LSTM.add(Dense(3, activation='sigmoid'))\n",
        "model_LSTM.compile(optimizer='adam', loss='categorical_crossentropy', metrics=['acc'])\n",
        "history_LSTM = model_LSTM.fit(X_train, Y_train,\n",
        "                    epochs=5,\n",
        "                    batch_size=512,\n",
        "                    validation_split=0.2)"
      ],
      "execution_count": 0,
      "outputs": [
        {
          "output_type": "stream",
          "text": [
            "Train on 173655 samples, validate on 43414 samples\n",
            "Epoch 1/5\n",
            "173655/173655 [==============================] - 10s 60us/sample - loss: 0.5445 - acc: 0.7730 - val_loss: 0.3737 - val_acc: 0.8538\n",
            "Epoch 2/5\n",
            "173655/173655 [==============================] - 4s 26us/sample - loss: 0.3622 - acc: 0.8569 - val_loss: 0.3606 - val_acc: 0.8549\n",
            "Epoch 3/5\n",
            "173655/173655 [==============================] - 4s 26us/sample - loss: 0.3540 - acc: 0.8587 - val_loss: 0.3560 - val_acc: 0.8562\n",
            "Epoch 4/5\n",
            "173655/173655 [==============================] - 4s 26us/sample - loss: 0.3492 - acc: 0.8602 - val_loss: 0.3520 - val_acc: 0.8574\n",
            "Epoch 5/5\n",
            "173655/173655 [==============================] - 5s 26us/sample - loss: 0.3458 - acc: 0.8607 - val_loss: 0.3512 - val_acc: 0.8576\n"
          ],
          "name": "stdout"
        }
      ]
    },
    {
      "cell_type": "code",
      "metadata": {
        "id": "rNdvgpMEN-5i",
        "colab_type": "code",
        "outputId": "cae37e31-23f8-40a9-fe10-6f8b9ed0ad81",
        "colab": {
          "base_uri": "https://localhost:8080/",
          "height": 51
        }
      },
      "source": [
        "loss_LSTM, acc_LSTM = model_LSTM.evaluate(X_test, Y_test, verbose=0)\n",
        "print(\"Accuracy: %.2f\" % (acc_LSTM*100), \"%\")\n",
        "print(\"Loss: %.2f\" % (loss_LSTM*100), \"%\")"
      ],
      "execution_count": 0,
      "outputs": [
        {
          "output_type": "stream",
          "text": [
            "Accuracy: 86.07 %\n",
            "Loss: 34.45 %\n"
          ],
          "name": "stdout"
        }
      ]
    },
    {
      "cell_type": "markdown",
      "metadata": {
        "id": "-Djt6WxeOKVF",
        "colab_type": "text"
      },
      "source": [
        "###GRU"
      ]
    },
    {
      "cell_type": "code",
      "metadata": {
        "id": "7aMCxZiVOJ7z",
        "colab_type": "code",
        "outputId": "13fb67e6-ccd8-484d-8569-20f06ad92c7a",
        "colab": {
          "base_uri": "https://localhost:8080/",
          "height": 204
        }
      },
      "source": [
        "model_GRU = Sequential()\n",
        "model_GRU.add(Embedding(10000,32))\n",
        "model_GRU.add(GRU(32))\n",
        "model_GRU.add(Dense(3, activation='sigmoid'))\n",
        "model_GRU.compile(optimizer='adam', loss='categorical_crossentropy', metrics=['acc'])\n",
        "history_GRU = model_GRU.fit(X_train, Y_train,\n",
        "                    epochs=5,\n",
        "                    batch_size=512,\n",
        "                    validation_split=0.2)"
      ],
      "execution_count": 0,
      "outputs": [
        {
          "output_type": "stream",
          "text": [
            "Train on 173655 samples, validate on 43414 samples\n",
            "Epoch 1/5\n",
            "173655/173655 [==============================] - 6s 34us/sample - loss: 0.5323 - acc: 0.7903 - val_loss: 0.3752 - val_acc: 0.8528\n",
            "Epoch 2/5\n",
            "173655/173655 [==============================] - 4s 25us/sample - loss: 0.3651 - acc: 0.8553 - val_loss: 0.3636 - val_acc: 0.8551\n",
            "Epoch 3/5\n",
            "173655/173655 [==============================] - 4s 25us/sample - loss: 0.3556 - acc: 0.8583 - val_loss: 0.3560 - val_acc: 0.8565\n",
            "Epoch 4/5\n",
            "173655/173655 [==============================] - 5s 27us/sample - loss: 0.3493 - acc: 0.8600 - val_loss: 0.3522 - val_acc: 0.8572\n",
            "Epoch 5/5\n",
            "173655/173655 [==============================] - 5s 27us/sample - loss: 0.3446 - acc: 0.8616 - val_loss: 0.3509 - val_acc: 0.8583\n"
          ],
          "name": "stdout"
        }
      ]
    },
    {
      "cell_type": "code",
      "metadata": {
        "id": "nmCDZqimOUAd",
        "colab_type": "code",
        "outputId": "0ff66b06-a911-442b-ea25-7f220d07a799",
        "colab": {
          "base_uri": "https://localhost:8080/",
          "height": 51
        }
      },
      "source": [
        "loss_GRU, acc_GRU = model_GRU.evaluate(X_test, Y_test, verbose=0)\n",
        "print(\"Accuracy: %.2f\" % (acc_GRU*100), \"%\")\n",
        "print(\"Loss: %.2f\" % (loss_GRU*100), \"%\")"
      ],
      "execution_count": 0,
      "outputs": [
        {
          "output_type": "stream",
          "text": [
            "Accuracy: 86.20 %\n",
            "Loss: 34.38 %\n"
          ],
          "name": "stdout"
        }
      ]
    }
  ]
}